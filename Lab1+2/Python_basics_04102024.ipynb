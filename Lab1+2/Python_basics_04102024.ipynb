{
  "nbformat": 4,
  "nbformat_minor": 0,
  "metadata": {
    "colab": {
      "provenance": [],
      "toc_visible": true,
      "authorship_tag": "ABX9TyOEr7T6Y/LnBwJHLaw/jV/l",
      "include_colab_link": true
    },
    "kernelspec": {
      "name": "python3",
      "display_name": "Python 3"
    },
    "language_info": {
      "name": "python"
    }
  },
  "cells": [
    {
      "cell_type": "markdown",
      "metadata": {
        "id": "view-in-github",
        "colab_type": "text"
      },
      "source": [
        "<a href=\"https://colab.research.google.com/github/DaitTan/LabCodebase/blob/main/Lab12/Python_basics_04102024.ipynb\" target=\"_parent\"><img src=\"https://colab.research.google.com/assets/colab-badge.svg\" alt=\"Open In Colab\"/></a>"
      ]
    },
    {
      "cell_type": "markdown",
      "source": [
        "### 1 Use an operator\n",
        "\n",
        "All of the basic math operators work like you think they should for numbers. They can also\n",
        "do some useful operations on other things, like strings. There are also boolean operators that\n",
        "compare quantities and give back a `bool` variable as a result."
      ],
      "metadata": {
        "id": "ENfkdpiR9rAd"
      }
    },
    {
      "cell_type": "code",
      "execution_count": 1,
      "metadata": {
        "colab": {
          "base_uri": "https://localhost:8080/"
        },
        "id": "udVnTaoR9plw",
        "outputId": "7aeb25ae-6967-40b8-eeaf-1f45a7038f76"
      },
      "outputs": [
        {
          "output_type": "stream",
          "name": "stdout",
          "text": [
            "5\n",
            "6\n",
            "8\n",
            "0.6666666666666666\n"
          ]
        }
      ],
      "source": [
        "# Standard math operators work as expected on numbers\n",
        "a = 2\n",
        "b = 3\n",
        "print(a + b)\n",
        "print(a * b)\n",
        "print(a ** b)  # a to the power of b (a^b does something completely different!)\n",
        "print(a / b)   # Careful with dividing integers if you use Python 2"
      ]
    },
    {
      "cell_type": "code",
      "source": [
        "# There are also operators for strings\n",
        "print('hello' + 'world')\n",
        "print('hello' * 3)\n",
        "#print('hello' / 3)  # You can't do this!"
      ],
      "metadata": {
        "colab": {
          "base_uri": "https://localhost:8080/"
        },
        "id": "XJM74p4P9u88",
        "outputId": "a61e0f37-fde2-40d4-df07-f526920b6e42"
      },
      "execution_count": 2,
      "outputs": [
        {
          "output_type": "stream",
          "name": "stdout",
          "text": [
            "helloworld\n",
            "hellohellohello\n"
          ]
        }
      ]
    },
    {
      "cell_type": "code",
      "source": [
        "# Boolean operators compare two things\n",
        "a = (1 > 3)\n",
        "b = (3 == 3)\n",
        "print(a)\n",
        "print(b)\n",
        "print(a or b)\n",
        "print(a and b)"
      ],
      "metadata": {
        "colab": {
          "base_uri": "https://localhost:8080/"
        },
        "id": "shhVuHwp9yVH",
        "outputId": "5fef4204-a3a7-4f56-9002-c1ee63c9816f"
      },
      "execution_count": 3,
      "outputs": [
        {
          "output_type": "stream",
          "name": "stdout",
          "text": [
            "False\n",
            "True\n",
            "True\n",
            "False\n"
          ]
        }
      ]
    },
    {
      "cell_type": "markdown",
      "source": [
        "### 2 Use a function\n",
        "\n",
        "These will be very familiar to anyone who has programmed in any language, and work like you\n",
        "would expect."
      ],
      "metadata": {
        "id": "29Y7hg2q99pS"
      }
    },
    {
      "cell_type": "code",
      "source": [
        "# There are thousands of functions that operate on things\n",
        "print(type(3))\n",
        "print(len('hello'))\n",
        "print(round(3.3))"
      ],
      "metadata": {
        "colab": {
          "base_uri": "https://localhost:8080/"
        },
        "id": "1FlQg0GW91Xn",
        "outputId": "0f76c22f-256b-4205-8bb1-65fc7287af97"
      },
      "execution_count": 4,
      "outputs": [
        {
          "output_type": "stream",
          "name": "stdout",
          "text": [
            "<class 'int'>\n",
            "5\n",
            "3\n"
          ]
        }
      ]
    },
    {
      "cell_type": "code",
      "source": [
        "round(3.14159, 2)"
      ],
      "metadata": {
        "colab": {
          "base_uri": "https://localhost:8080/"
        },
        "id": "shqdousC-Aek",
        "outputId": "33352665-e990-4630-e718-ab2c31e72502"
      },
      "execution_count": 5,
      "outputs": [
        {
          "output_type": "execute_result",
          "data": {
            "text/plain": [
              "3.14"
            ]
          },
          "metadata": {},
          "execution_count": 5
        }
      ]
    },
    {
      "cell_type": "markdown",
      "source": [
        "__TIP:__ Many useful functions are not in the Python built in library, but are in external\n",
        "scientific packages. These need to be imported into your Python notebook (or program) before\n",
        "they can be used. Probably the most important of these are numpy and matplotlib."
      ],
      "metadata": {
        "id": "nq9pKGLs-I0V"
      }
    },
    {
      "cell_type": "code",
      "source": [
        "# Many useful functions are in external packages\n",
        "# Let's meet numpy\n",
        "import numpy as np"
      ],
      "metadata": {
        "id": "w7Sduuks-JKj"
      },
      "execution_count": 6,
      "outputs": []
    },
    {
      "cell_type": "code",
      "source": [
        "# Some examples of numpy functions and \"things\"\n",
        "print(np.sqrt(4))\n",
        "print(np.pi)  # Not a function, just a variable\n",
        "print(np.sin(np.pi))"
      ],
      "metadata": {
        "colab": {
          "base_uri": "https://localhost:8080/"
        },
        "id": "jzwwuFS6-Lb_",
        "outputId": "3fd3100c-f564-4db5-e68f-d5fe3be34373"
      },
      "execution_count": 7,
      "outputs": [
        {
          "output_type": "stream",
          "name": "stdout",
          "text": [
            "2.0\n",
            "3.141592653589793\n",
            "1.2246467991473532e-16\n"
          ]
        }
      ]
    },
    {
      "cell_type": "markdown",
      "source": [
        "### Exercise 1 - Conversion\n",
        "\n",
        "The first thing we want to do is convert from `inches` to `metres`.\n",
        "\n",
        "To change inches into metres we use the following equation (conversion factor is rounded)\n",
        "\n",
        "## $metre = \\frac{inches}{39.3700787}$\n",
        "\n",
        "1. Create a variable for the conversion factor, called `conversion_factor`.\n",
        "1. Create a variable (`inches`) for your height in inches, as inaccurately as you want.\n",
        "2. Divide `inches` by `conversion_factor`, and store the result in a new variable, `metres`.\n",
        "1. Print the result\n",
        "\n",
        "__Bonus__\n",
        "\n",
        "Write a function `inches_to_cm` that takes an input `height` in inches and outputs height in cm. We know that 1 metre = 100 cm.\n"
      ],
      "metadata": {
        "id": "Kuv8fomh-RUH"
      }
    },
    {
      "cell_type": "markdown",
      "source": [
        "### Exercise 2 - Lets deal with a List\n",
        "\n",
        "1. Ask 5 people around for their heights in inches (or just put in reasonable integers) and put them in a list.\n",
        "2. Use the function defined above to convert them to cm\n",
        "\n",
        "__Tip__\n",
        "You would be using a loop maybe?\n"
      ],
      "metadata": {
        "id": "QplAGSc3ABdZ"
      }
    },
    {
      "cell_type": "code",
      "source": [],
      "metadata": {
        "id": "u7jIQKW_-R0X"
      },
      "execution_count": null,
      "outputs": []
    },
    {
      "cell_type": "markdown",
      "source": [
        "### 3 Numpy arrays (ndarrays)\n",
        "\n",
        "Even though numpy arrays (often written as ndarrays, for n-dimensional arrays) are not part of the\n",
        "core Python libraries, they are so useful in scientific Python that we'll include them here in the\n",
        "core lesson. Numpy arrays are collections of things, all of which must be the same type, that work\n",
        "similarly to lists (as we've described them so far). The most important are:\n",
        "\n",
        "1. You can easily perform elementwise operations (and matrix algebra) on arrays\n",
        "1. Arrays can be n-dimensional\n",
        "1. There is no equivalent to append, although arrays can be concatenated\n",
        "\n",
        "Arrays can be created from existing collections such as lists, or instantiated \"from scratch\" in a\n",
        "few useful ways.\n",
        "\n",
        "When getting started with scientific Python, you will probably want to try to use ndarrays whenever\n",
        "possible, saving the other types of collections for those cases when you have a specific reason to use\n",
        "them."
      ],
      "metadata": {
        "id": "jm-2RC3dAii1"
      }
    },
    {
      "cell_type": "code",
      "source": [
        "# We need to import the numpy library to have access to it\n",
        "# We can also create an alias for a library, this is something you will commonly see with numpy\n",
        "import numpy as np"
      ],
      "metadata": {
        "id": "kA7JxpHSAmC_"
      },
      "execution_count": 9,
      "outputs": []
    },
    {
      "cell_type": "code",
      "source": [
        "# Make an array from a list\n",
        "alist = [2, 3, 4]\n",
        "blist = [5, 6, 7]\n",
        "a = np.array(alist)\n",
        "b = np.array(blist)\n",
        "print(a, type(a))\n",
        "print(b, type(b))"
      ],
      "metadata": {
        "colab": {
          "base_uri": "https://localhost:8080/"
        },
        "id": "p-9Pd201Ax-X",
        "outputId": "6ad30224-8982-4816-c223-d3e073738a08"
      },
      "execution_count": 10,
      "outputs": [
        {
          "output_type": "stream",
          "name": "stdout",
          "text": [
            "[2 3 4] <class 'numpy.ndarray'>\n",
            "[5 6 7] <class 'numpy.ndarray'>\n"
          ]
        }
      ]
    },
    {
      "cell_type": "code",
      "source": [
        "# Do arithmetic on arrays\n",
        "print(a**2)\n",
        "print(np.sin(a))\n",
        "print(a * b)\n",
        "print(a.dot(b), np.dot(a, b))"
      ],
      "metadata": {
        "colab": {
          "base_uri": "https://localhost:8080/"
        },
        "id": "bICP_XNNAz1r",
        "outputId": "3d1f7003-beb9-4746-f38a-fcbc54a8625b"
      },
      "execution_count": 11,
      "outputs": [
        {
          "output_type": "stream",
          "name": "stdout",
          "text": [
            "[ 4  9 16]\n",
            "[ 0.90929743  0.14112001 -0.7568025 ]\n",
            "[10 18 28]\n",
            "56 56\n"
          ]
        }
      ]
    },
    {
      "cell_type": "code",
      "source": [
        "# Boolean operators work on arrays too, and they return boolean arrays\n",
        "print(a > 2)\n",
        "print(b == 6)\n",
        "\n",
        "c = a > 2\n",
        "print(c)\n",
        "print(type(c))\n",
        "print(c.dtype)"
      ],
      "metadata": {
        "colab": {
          "base_uri": "https://localhost:8080/"
        },
        "id": "hLpsmf-2A0_Q",
        "outputId": "50287519-876e-4c06-bd6e-1d80be5f007a"
      },
      "execution_count": 12,
      "outputs": [
        {
          "output_type": "stream",
          "name": "stdout",
          "text": [
            "[False  True  True]\n",
            "[False  True False]\n",
            "[False  True  True]\n",
            "<class 'numpy.ndarray'>\n",
            "bool\n"
          ]
        }
      ]
    },
    {
      "cell_type": "code",
      "source": [
        "# Indexing arrays\n",
        "print(a[0:2])\n",
        "\n",
        "c = np.random.rand(3,3)\n",
        "print(c)\n",
        "print('\\n')\n",
        "print(c[1:3,0:2])\n",
        "\n",
        "c[0,:] = a\n",
        "print('\\n')\n",
        "print(c)"
      ],
      "metadata": {
        "colab": {
          "base_uri": "https://localhost:8080/"
        },
        "id": "9fA4pNkQA4T8",
        "outputId": "bb879d0d-5d6f-4e12-a728-7804b29565d2"
      },
      "execution_count": 13,
      "outputs": [
        {
          "output_type": "stream",
          "name": "stdout",
          "text": [
            "[2 3]\n",
            "[[0.85206712 0.41153213 0.98222641]\n",
            " [0.18194541 0.45669799 0.03189521]\n",
            " [0.51011834 0.58350902 0.17719921]]\n",
            "\n",
            "\n",
            "[[0.18194541 0.45669799]\n",
            " [0.51011834 0.58350902]]\n",
            "\n",
            "\n",
            "[[2.         3.         4.        ]\n",
            " [0.18194541 0.45669799 0.03189521]\n",
            " [0.51011834 0.58350902 0.17719921]]\n"
          ]
        }
      ]
    },
    {
      "cell_type": "code",
      "source": [
        "# Arrays can also be indexed with other boolean arrays\n",
        "print(a)\n",
        "print(b)\n",
        "print(a > 2)\n",
        "print(a[a > 2])\n",
        "print(b[a > 2])\n",
        "\n",
        "b[a == 3] = 77\n",
        "print(b)"
      ],
      "metadata": {
        "colab": {
          "base_uri": "https://localhost:8080/"
        },
        "id": "EQhH63ABA55E",
        "outputId": "1dd6238e-b43b-4795-8adb-0ee42ea36b03"
      },
      "execution_count": 14,
      "outputs": [
        {
          "output_type": "stream",
          "name": "stdout",
          "text": [
            "[2 3 4]\n",
            "[5 6 7]\n",
            "[False  True  True]\n",
            "[3 4]\n",
            "[6 7]\n",
            "[ 5 77  7]\n"
          ]
        }
      ]
    },
    {
      "cell_type": "code",
      "source": [
        "# ndarrays have attributes in addition to methods\n",
        "#c.\n",
        "print(c)\n",
        "print(c.shape)\n",
        "print(c.prod())\n",
        "print(c.sum())"
      ],
      "metadata": {
        "colab": {
          "base_uri": "https://localhost:8080/"
        },
        "id": "jnLicR2-A7xZ",
        "outputId": "576a689e-219f-45d4-9fa1-72496c3fe176"
      },
      "execution_count": 18,
      "outputs": [
        {
          "output_type": "stream",
          "name": "stdout",
          "text": [
            "[[2.         3.         4.        ]\n",
            " [0.18194541 0.45669799 0.03189521]\n",
            " [0.51011834 0.58350902 0.17719921]]\n",
            "(3, 3)\n",
            "0.003354958873510887\n",
            "10.941365178909077\n"
          ]
        }
      ]
    },
    {
      "cell_type": "code",
      "source": [
        "# There are handy ways to make arrays full of ones and zeros\n",
        "print(np.zeros(5), '\\n')\n",
        "print(np.ones(5), '\\n')\n",
        "print(np.identity(5), '\\n')"
      ],
      "metadata": {
        "colab": {
          "base_uri": "https://localhost:8080/"
        },
        "id": "Ub6-5VD5A9XN",
        "outputId": "0088448d-5a3d-4dbd-ddc2-d304a5c7d009"
      },
      "execution_count": 19,
      "outputs": [
        {
          "output_type": "stream",
          "name": "stdout",
          "text": [
            "[0. 0. 0. 0. 0.] \n",
            "\n",
            "[1. 1. 1. 1. 1.] \n",
            "\n",
            "[[1. 0. 0. 0. 0.]\n",
            " [0. 1. 0. 0. 0.]\n",
            " [0. 0. 1. 0. 0.]\n",
            " [0. 0. 0. 1. 0.]\n",
            " [0. 0. 0. 0. 1.]] \n",
            "\n"
          ]
        }
      ]
    },
    {
      "cell_type": "code",
      "source": [
        "# You can also easily make arrays of number sequences\n",
        "print(np.arange(0, 10, 2))"
      ],
      "metadata": {
        "colab": {
          "base_uri": "https://localhost:8080/"
        },
        "id": "sYartBDDA-7-",
        "outputId": "caf68496-8143-4080-c5fa-336999e9d5db"
      },
      "execution_count": 20,
      "outputs": [
        {
          "output_type": "stream",
          "name": "stdout",
          "text": [
            "[0 2 4 6 8]\n"
          ]
        }
      ]
    },
    {
      "cell_type": "markdown",
      "source": [
        "### EXERCISE 3 - Using Arrays for simple analysis\n",
        "\n",
        "Revisit your list of heights\n",
        "\n",
        "1. turn it into an array\n",
        "2. calculate the mean\n",
        "4. find the mean of the masked heights\n",
        "\n",
        "__BONUS__\n",
        "\n",
        "1. I want you to use .sum() and division to do this\n"
      ],
      "metadata": {
        "id": "ZDLToUPnBHmk"
      }
    },
    {
      "cell_type": "code",
      "source": [],
      "metadata": {
        "id": "aqPJLg15BIAm"
      },
      "execution_count": null,
      "outputs": []
    }
  ]
}